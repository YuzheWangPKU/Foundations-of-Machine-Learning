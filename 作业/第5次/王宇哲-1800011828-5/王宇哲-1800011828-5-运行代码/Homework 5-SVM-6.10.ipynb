{
 "cells": [
  {
   "cell_type": "code",
   "execution_count": 1,
   "id": "e26339cc",
   "metadata": {
    "ExecuteTime": {
     "end_time": "2021-04-15T02:18:23.356081Z",
     "start_time": "2021-04-15T02:18:06.908060Z"
    }
   },
   "outputs": [
    {
     "name": "stdout",
     "output_type": "stream",
     "text": [
      "average number of support vectors (l2-form): 83.59\n",
      "average accuracy of linear kernel SVM (l2-form): 0.9588\n",
      "average number of support vectors (l1-form): 50.35\n",
      "average accuracy of linear kernel SVM (l1-form): 0.9723\n"
     ]
    }
   ],
   "source": [
    "from matplotlib import pyplot as plt\n",
    "import pandas as pd\n",
    "import numpy as np\n",
    "\n",
    "from sklearn import datasets, svm, metrics\n",
    "\n",
    "cancer = datasets.load_breast_cancer()\n",
    "X = cancer.data\n",
    "y = cancer.target\n",
    "    \n",
    "def LinearSVC_train(X, y, penalty='l2', C=1000):\n",
    "    n_sample = len(X)\n",
    "    np.random.seed()\n",
    "    order = np.random.permutation(n_sample)\n",
    "    X = X[order]\n",
    "    y = y[order].astype(float)\n",
    "\n",
    "    X_train = X[:int(.9 * n_sample)]\n",
    "    y_train = y[:int(.9 * n_sample)]\n",
    "    X_test = X[int(.9 * n_sample):]\n",
    "    y_test = y[int(.9 * n_sample):]\n",
    "    \n",
    "    svc = svm.LinearSVC(C=C, penalty=penalty, dual=False)\n",
    "    svc.fit(X_train, y_train)\n",
    "    decision_function = svc.decision_function(X_train)\n",
    "    support_vector_indices = np.where(np.abs(decision_function) <= 1 + 1e-15)[0]\n",
    "    support_vector = X_train[support_vector_indices]\n",
    "    \n",
    "    y_pred = svc.predict(X_test)\n",
    "    accuracy = metrics.accuracy_score(y_test, y_pred)\n",
    "    \n",
    "    return len(support_vector), accuracy\n",
    "\n",
    "for penalty in ['l2', 'l1']:\n",
    "    sv_list = []\n",
    "    accuracy_list = []\n",
    "\n",
    "    for i in range(0, 100):\n",
    "        sv, ac = LinearSVC_train(X, y, penalty=penalty)\n",
    "        sv_list.append(sv)\n",
    "        accuracy_list.append(ac)\n",
    "    \n",
    "    print('average number of support vectors ' + '(' + str(penalty) + '-norm): ' + str(\"%.2f\" % np.mean(sv_list)))\n",
    "    print('average accuracy of linear kernel SVM ' + '(' + str(penalty) + '-norm): ' + str(\"%.4f\" % np.mean(accuracy_list)))\n",
    "\n"
   ]
  },
  {
   "cell_type": "code",
   "execution_count": null,
   "id": "9e3fc600",
   "metadata": {},
   "outputs": [],
   "source": []
  }
 ],
 "metadata": {
  "kernelspec": {
   "display_name": "Python 3",
   "language": "python",
   "name": "python3"
  },
  "language_info": {
   "codemirror_mode": {
    "name": "ipython",
    "version": 3
   },
   "file_extension": ".py",
   "mimetype": "text/x-python",
   "name": "python",
   "nbconvert_exporter": "python",
   "pygments_lexer": "ipython3",
   "version": "3.7.0"
  },
  "latex_envs": {
   "LaTeX_envs_menu_present": true,
   "autoclose": false,
   "autocomplete": true,
   "bibliofile": "biblio.bib",
   "cite_by": "apalike",
   "current_citInitial": 1,
   "eqLabelWithNumbers": true,
   "eqNumInitial": 1,
   "hotkeys": {
    "equation": "Ctrl-E",
    "itemize": "Ctrl-I"
   },
   "labels_anchors": false,
   "latex_user_defs": false,
   "report_style_numbering": false,
   "user_envs_cfg": false
  }
 },
 "nbformat": 4,
 "nbformat_minor": 5
}
